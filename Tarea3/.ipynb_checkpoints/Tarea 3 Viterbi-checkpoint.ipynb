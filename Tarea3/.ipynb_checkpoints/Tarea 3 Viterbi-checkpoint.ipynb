{
 "cells": [
  {
   "cell_type": "code",
   "execution_count": 1,
   "metadata": {
    "collapsed": false
   },
   "outputs": [],
   "source": [
    "__author__ = 'sharop'\n",
    "\n",
    "# -*- coding: utf-8 -*-\n",
    "\n",
    "from __future__ import absolute_import, division, print_function, unicode_literals\n",
    "import string, numpy as np, getopt, sys, random, time, re, pprint, codecs, json\n",
    "from pprint import pprint\n",
    "\n",
    "data =[]\n",
    "with codecs.open('corpus_entrenamiento.jsonline') as f:\n",
    "    for line in f:\n",
    "        data.append(json.loads(line.lower()))\n",
    "    \n",
    "data_tt =[]\n",
    "with codecs.open('token_tag.jsonlines') as tt:\n",
    "    for line in tt:\n",
    "        data_tt.append(json.loads(line.lower()))\n",
    "        \n",
    "        \n",
    "token_dict ={}\n",
    "tag_dict ={}"
   ]
  },
  {
   "cell_type": "code",
   "execution_count": null,
   "metadata": {
    "collapsed": false,
    "scrolled": true
   },
   "outputs": [],
   "source": []
  },
  {
   "cell_type": "code",
   "execution_count": 2,
   "metadata": {
    "collapsed": false
   },
   "outputs": [],
   "source": [
    "for item in data_tt:\n",
    "    if tag_dict.has_key(item['tag']):\n",
    "        tag_dict[item['tag']]= tag_dict[item['tag']]+1\n",
    "    else:\n",
    "        tag_dict[item['tag']]= 1\n",
    "        \n",
    "    if token_dict.has_key(item['token']):\n",
    "        token_dict[item['token']]= token_dict[item['token']]+1\n",
    "    else:\n",
    "        token_dict[item['token']]= 1"
   ]
  },
  {
   "cell_type": "code",
   "execution_count": null,
   "metadata": {
    "collapsed": false
   },
   "outputs": [],
   "source": []
  },
  {
   "cell_type": "code",
   "execution_count": 3,
   "metadata": {
    "collapsed": false
   },
   "outputs": [],
   "source": [
    "tags=sorted(tag_dict.keys())\n",
    "tokens = sorted(token_dict.keys())"
   ]
  },
  {
   "cell_type": "code",
   "execution_count": 4,
   "metadata": {
    "collapsed": false
   },
   "outputs": [],
   "source": [
    "B=[[0L for j in range(len(tags)) ] for i in range(len(tokens)) ]\n",
    "A=[[0L for j in range(len(tags)) ] for i in range(len(tags)) ]"
   ]
  },
  {
   "cell_type": "code",
   "execution_count": 5,
   "metadata": {
    "collapsed": false
   },
   "outputs": [],
   "source": [
    "#Datos de suavizado\n",
    "k=1\n",
    "Ntags = len(tags)\n",
    "NTokens = len(tokens)"
   ]
  },
  {
   "cell_type": "code",
   "execution_count": 6,
   "metadata": {
    "collapsed": false
   },
   "outputs": [],
   "source": [
    "#Construccion de la matriz B\n",
    "for doc in data_tt:\n",
    "    i= tokens.index(doc['token'])    \n",
    "    j= tags.index(doc['tag'])    \n",
    "    #if doc['tag']==u'ao':\n",
    "    #print ((i,j))\n",
    "    B[i][j] = B[i][j] + 1.0\n",
    "B = np.array(B)\n",
    "B = [i/sum(i) for i in B] "
   ]
  },
  {
   "cell_type": "code",
   "execution_count": 7,
   "metadata": {
    "collapsed": false
   },
   "outputs": [],
   "source": [
    "# Calculo Pi \n",
    "Pi =[0L for i in range(len(tags))]\n",
    "for d in data:\n",
    "    pTag = d['document'][0]['tag']\n",
    "    idxTag = tags.index(pTag)\n",
    "    Pi[idxTag] += 1\n",
    "    #print (pTag,idxTag,Pi[idxTag])\n",
    "Pi = np.array(Pi)\n",
    "Pi = (Pi+k)/(sum(Pi)+(k*Ntags))"
   ]
  },
  {
   "cell_type": "code",
   "execution_count": 8,
   "metadata": {
    "collapsed": false
   },
   "outputs": [
    {
     "name": "stdout",
     "output_type": "stream",
     "text": [
      "[ 0.00546448  0.00546448  0.03551913  0.0136612   0.1284153   0.01912568\n",
      "  0.03278689  0.01912568  0.00273224  0.00546448  0.00273224  0.00273224\n",
      "  0.00273224  0.00273224  0.00819672  0.00273224  0.00546448  0.00273224\n",
      "  0.00273224  0.00273224  0.00273224  0.00273224  0.03278689  0.26775956\n",
      "  0.02185792  0.01092896  0.00819672  0.0136612   0.00273224  0.00273224\n",
      "  0.00273224  0.04371585  0.01092896  0.1557377   0.00819672  0.07923497\n",
      "  0.0273224   0.00273224] : 1.0\n"
     ]
    }
   ],
   "source": [
    "print (Pi,':',sum(Pi))"
   ]
  },
  {
   "cell_type": "code",
   "execution_count": 10,
   "metadata": {
    "collapsed": false
   },
   "outputs": [],
   "source": [
    "## Construccion de matrix A\n",
    "#Iteramos por cada documento\n",
    "for document in data:\n",
    "    # Cada documento contiene un elemento que corresponde al contenido.\n",
    "    tagp=document['document'][0]['tag']\n",
    "    for i in xrange (1,len(document['document'])):\n",
    "        tagi = document['document'][i]['tag']\n",
    "        #print(tagp,tagi)\n",
    "        A[tags.index(tagp)][tags.index(tagi)] +=1\n",
    "        tagp = tagi\n",
    "\n",
    "A = np.array(A)\n",
    "A = [(i+k)/(sum(i)+(k*Ntags)) for i in A] "
   ]
  },
  {
   "cell_type": "code",
   "execution_count": 20,
   "metadata": {
    "collapsed": false
   },
   "outputs": [
    {
     "data": {
      "text/plain": [
       "(u'np', u'sp')"
      ]
     },
     "execution_count": 20,
     "metadata": {},
     "output_type": "execute_result"
    }
   ],
   "source": [
    "documenti = data[0]\n",
    "documenti['document'][0]['tag'] , documenti['document'][1]['tag']"
   ]
  },
  {
   "cell_type": "code",
   "execution_count": 22,
   "metadata": {
    "collapsed": true
   },
   "outputs": [],
   "source": [
    "def print_dptable(V):\n",
    "    s = \" \" + \"\".join((\"%7d\" % i) for i in range(len(V))) + \"\\n\"\n",
    "    for y in V[0]:\n",
    "        s += \"%.5s: \" % y\n",
    "        s += \"\".join(\"%.7s\" % (\"%f\" % v[y]) for v in V)\n",
    "        s += \"\\n\"\n",
    "    print(s)\n",
    "    \n",
    "def viterbi(obs, states, pi,tp, ep):\n",
    "    V=[]\n",
    "    for y in states:\n",
    "        V[0][y] = pi[y]*ep[y][obs[0]]\n",
    "        path[y] = [y]\n",
    "        \n",
    "    for t in range(1, len(obs)):\n",
    "        V.append({})\n",
    "        newpath = {}\n",
    "        \n",
    "        for y in states:\n",
    "            (prob, state) = max((V[t-1][y0] * tp[y0][y] * ep[y][obs[t]], y0) for y0 in states)\n",
    "            V[t][y] = prob\n",
    "            newpath[y] = path[state] + [y]\n",
    "            \n",
    "        path = newpath\n",
    "    \n",
    "    print_dptable(V)\n",
    "    (prob, state) = max((V[t][y], y) for y in states)\n",
    "    return (prob, path[state])"
   ]
  },
  {
   "cell_type": "code",
   "execution_count": null,
   "metadata": {
    "collapsed": false
   },
   "outputs": [],
   "source": []
  },
  {
   "cell_type": "code",
   "execution_count": null,
   "metadata": {
    "collapsed": true
   },
   "outputs": [],
   "source": []
  },
  {
   "cell_type": "code",
   "execution_count": null,
   "metadata": {
    "collapsed": true
   },
   "outputs": [],
   "source": []
  },
  {
   "cell_type": "code",
   "execution_count": null,
   "metadata": {
    "collapsed": true
   },
   "outputs": [],
   "source": []
  },
  {
   "cell_type": "code",
   "execution_count": null,
   "metadata": {
    "collapsed": true
   },
   "outputs": [],
   "source": []
  },
  {
   "cell_type": "code",
   "execution_count": null,
   "metadata": {
    "collapsed": true
   },
   "outputs": [],
   "source": []
  },
  {
   "cell_type": "code",
   "execution_count": null,
   "metadata": {
    "collapsed": false
   },
   "outputs": [],
   "source": [
    "np.savetxt ('matA.dat',A)\n",
    "np.savetxt('matB.dat',B)\n",
    "np.savetxt('matPi.dat',Pi)"
   ]
  },
  {
   "cell_type": "code",
   "execution_count": null,
   "metadata": {
    "collapsed": false
   },
   "outputs": [],
   "source": [
    "print (A[1],':',sum(A[1]))"
   ]
  },
  {
   "cell_type": "code",
   "execution_count": null,
   "metadata": {
    "collapsed": false
   },
   "outputs": [],
   "source": [
    "A"
   ]
  },
  {
   "cell_type": "code",
   "execution_count": null,
   "metadata": {
    "collapsed": false
   },
   "outputs": [],
   "source": [
    "np.shape(A*Pi)"
   ]
  },
  {
   "cell_type": "code",
   "execution_count": null,
   "metadata": {
    "collapsed": false
   },
   "outputs": [],
   "source": [
    "np.shape(np.transpose(Pi))"
   ]
  },
  {
   "cell_type": "code",
   "execution_count": null,
   "metadata": {
    "collapsed": false
   },
   "outputs": [],
   "source": [
    "Piv=np.matrix(Pi)\n",
    "Am = np.matrix(A)"
   ]
  },
  {
   "cell_type": "code",
   "execution_count": null,
   "metadata": {
    "collapsed": false
   },
   "outputs": [],
   "source": [
    "MM=Am.transpose()*Piv.transpose()"
   ]
  },
  {
   "cell_type": "code",
   "execution_count": null,
   "metadata": {
    "collapsed": false
   },
   "outputs": [],
   "source": [
    "for i in range(10):\n",
    "    MM=Am.transpose()*MM"
   ]
  },
  {
   "cell_type": "code",
   "execution_count": null,
   "metadata": {
    "collapsed": false
   },
   "outputs": [],
   "source": [
    "Bm= np.matrix(B)"
   ]
  },
  {
   "cell_type": "code",
   "execution_count": null,
   "metadata": {
    "collapsed": false
   },
   "outputs": [],
   "source": [
    "np.shape(Bm*MM)"
   ]
  },
  {
   "cell_type": "code",
   "execution_count": null,
   "metadata": {
    "collapsed": true
   },
   "outputs": [],
   "source": []
  }
 ],
 "metadata": {
  "kernelspec": {
   "display_name": "Python 2",
   "language": "python",
   "name": "python2"
  },
  "language_info": {
   "codemirror_mode": {
    "name": "ipython",
    "version": 2
   },
   "file_extension": ".py",
   "mimetype": "text/x-python",
   "name": "python",
   "nbconvert_exporter": "python",
   "pygments_lexer": "ipython2",
   "version": "2.7.10"
  }
 },
 "nbformat": 4,
 "nbformat_minor": 0
}
