{
 "cells": [
  {
   "cell_type": "code",
   "execution_count": 27,
   "metadata": {
    "collapsed": false
   },
   "outputs": [],
   "source": [
    "__author__ = 'sharop'\n",
    "\n",
    "# -*- coding: utf-8 -*-\n",
    "\n",
    "from __future__ import absolute_import, division, print_function, unicode_literals\n",
    "import string, numpy as np, getopt, sys, random, time, re, pprint, codecs, json\n",
    "from pprint import pprint\n",
    "\n",
    "data =[]\n",
    "with codecs.open('corpus_entrenamiento.jsonline') as f:\n",
    "    for line in f:\n",
    "        data.append(json.loads(line.lower()))\n",
    "    \n",
    "data_tt =[]\n",
    "with codecs.open('token_tag.jsonlines') as tt:\n",
    "    for line in tt:\n",
    "        data_tt.append(json.loads(line.lower()))\n",
    "        \n",
    "        \n",
    "token_dict ={}\n",
    "tag_dict ={}"
   ]
  },
  {
   "cell_type": "code",
   "execution_count": null,
   "metadata": {
    "collapsed": false,
    "scrolled": true
   },
   "outputs": [],
   "source": []
  },
  {
   "cell_type": "code",
   "execution_count": 28,
   "metadata": {
    "collapsed": false
   },
   "outputs": [],
   "source": [
    "for item in data_tt:\n",
    "    if tag_dict.has_key(item['tag']):\n",
    "        tag_dict[item['tag']]= tag_dict[item['tag']]+1\n",
    "    else:\n",
    "        tag_dict[item['tag']]= 1\n",
    "        \n",
    "    if token_dict.has_key(item['token']):\n",
    "        token_dict[item['token']]= token_dict[item['token']]+1\n",
    "    else:\n",
    "        token_dict[item['token']]= 1"
   ]
  },
  {
   "cell_type": "code",
   "execution_count": null,
   "metadata": {
    "collapsed": false
   },
   "outputs": [],
   "source": []
  },
  {
   "cell_type": "code",
   "execution_count": 4,
   "metadata": {
    "collapsed": false
   },
   "outputs": [],
   "source": [
    "tags=sorted(tag_dict.keys())\n",
    "tokens = sorted(token_dict.keys())"
   ]
  },
  {
   "cell_type": "code",
   "execution_count": 5,
   "metadata": {
    "collapsed": false
   },
   "outputs": [],
   "source": [
    "B=[[0L for j in range(len(tags)) ] for i in range(len(tokens)) ]\n",
    "A=[[0L for j in range(len(tags)) ] for i in range(len(tags)) ]"
   ]
  },
  {
   "cell_type": "code",
   "execution_count": 6,
   "metadata": {
    "collapsed": false
   },
   "outputs": [],
   "source": [
    "for doc in data_tt:\n",
    "    i= tokens.index(doc['token'])    \n",
    "    j= tags.index(doc['tag'])    \n",
    "    #if doc['tag']==u'ao':\n",
    "    #print ((i,j))\n",
    "    B[i][j] = B[i][j] + 1.0\n",
    "B = np.array(B)\n",
    "B = [i/sum(i) for i in B] "
   ]
  },
  {
   "cell_type": "code",
   "execution_count": 129,
   "metadata": {
    "collapsed": false
   },
   "outputs": [],
   "source": [
    "# Calculo Pi \n",
    "Pi =[0L for i in range(len(tags))]\n",
    "for d in data:\n",
    "    pTag = d['document'][0]['tag']\n",
    "    idxTag = tags.index(pTag)\n",
    "    Pi[idxTag] += 1\n",
    "    #print (pTag,idxTag,Pi[idxTag])\n",
    "Pi = np.array(Pi)\n",
    "Pi = Pi/sum(Pi)"
   ]
  },
  {
   "cell_type": "code",
   "execution_count": 127,
   "metadata": {
    "collapsed": false
   },
   "outputs": [],
   "source": [
    "## Construccion de matrix A\n",
    "#Iteramos por cada documento\n",
    "for document in data:\n",
    "    # Cada documento contiene un elemento que corresponde al contenido.\n",
    "    tagp=document['document'][0]['tag']\n",
    "    for i in xrange (1,len(document['document'])):\n",
    "        tagi = document['document'][i]['tag']\n",
    "        #print(tagp,tagi)\n",
    "        A[tags.index(tagp)][tags.index(tagi)] +=1\n",
    "        tagp = tagi\n",
    "\n",
    "A = np.array(A)\n",
    "A = [i/sum(i) for i in A] \n",
    "       \n",
    "        \n",
    "        \n",
    "        "
   ]
  },
  {
   "cell_type": "code",
   "execution_count": null,
   "metadata": {
    "collapsed": false
   },
   "outputs": [],
   "source": []
  },
  {
   "cell_type": "code",
   "execution_count": null,
   "metadata": {
    "collapsed": false
   },
   "outputs": [],
   "source": []
  },
  {
   "cell_type": "code",
   "execution_count": null,
   "metadata": {
    "collapsed": true
   },
   "outputs": [],
   "source": []
  }
 ],
 "metadata": {
  "kernelspec": {
   "display_name": "Python 2",
   "language": "python",
   "name": "python2"
  },
  "language_info": {
   "codemirror_mode": {
    "name": "ipython",
    "version": 2
   },
   "file_extension": ".py",
   "mimetype": "text/x-python",
   "name": "python",
   "nbconvert_exporter": "python",
   "pygments_lexer": "ipython2",
   "version": "2.7.10"
  }
 },
 "nbformat": 4,
 "nbformat_minor": 0
}
